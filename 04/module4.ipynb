{
 "cells": [
  {
   "cell_type": "markdown",
   "id": "39b84eb0",
   "metadata": {},
   "source": [
    "# Multilayer Perceptron"
   ]
  },
  {
   "cell_type": "markdown",
   "id": "ac6385ae",
   "metadata": {},
   "source": [
    "## Step and Sigmoid Function"
   ]
  },
  {
   "cell_type": "markdown",
   "id": "987059c6",
   "metadata": {},
   "source": [
    "Let's implement a step and sigmoid function using numpy"
   ]
  },
  {
   "cell_type": "code",
   "execution_count": 1,
   "id": "928f2dc4",
   "metadata": {},
   "outputs": [],
   "source": [
    "import numpy as np"
   ]
  },
  {
   "cell_type": "code",
   "execution_count": 9,
   "id": "437a0f94",
   "metadata": {},
   "outputs": [],
   "source": [
    "def step_function(x):\n",
    "    y = x > 0\n",
    "    return y.astype(np.int32) \n"
   ]
  },
  {
   "cell_type": "code",
   "execution_count": 10,
   "id": "96fc6b7f",
   "metadata": {},
   "outputs": [
    {
     "name": "stdout",
     "output_type": "stream",
     "text": [
      "[0 0 1 1]\n"
     ]
    }
   ],
   "source": [
    "x = np.array([-1.0, -2.0, 1.0, 1.5])\n",
    "y = step_function(x)\n",
    "print(y)  # Output: [0 0 1 1]"
   ]
  },
  {
   "cell_type": "code",
   "execution_count": 11,
   "id": "b1399e60",
   "metadata": {},
   "outputs": [],
   "source": [
    "def sigmoid(x):\n",
    "    return 1 / (1 + np.exp(-x)) "
   ]
  },
  {
   "cell_type": "code",
   "execution_count": 13,
   "id": "92437580",
   "metadata": {},
   "outputs": [
    {
     "name": "stdout",
     "output_type": "stream",
     "text": [
      "[0.26894142 0.11920292 0.73105858 0.81757448]\n"
     ]
    }
   ],
   "source": [
    "y = sigmoid(x)\n",
    "print(y)"
   ]
  },
  {
   "cell_type": "markdown",
   "id": "ef7fe136",
   "metadata": {},
   "source": [
    "Let's plot thse two functions using matplotlib"
   ]
  },
  {
   "cell_type": "code",
   "execution_count": 15,
   "id": "133aa562",
   "metadata": {},
   "outputs": [],
   "source": [
    "import matplotlib.pyplot as plt"
   ]
  },
  {
   "cell_type": "code",
   "execution_count": 23,
   "id": "5f493475",
   "metadata": {},
   "outputs": [
    {
     "data": {
      "text/plain": [
       "[<matplotlib.lines.Line2D at 0x78f44723ccd0>]"
      ]
     },
     "execution_count": 23,
     "metadata": {},
     "output_type": "execute_result"
    },
    {
     "data": {
      "image/png": "[encoded data removed]",
      "text/plain": [
       "<Figure size 640x480 with 1 Axes>"
      ]
     },
     "metadata": {},
     "output_type": "display_data"
    }
   ],
   "source": [
    "x = np.arange(-5.0, 5.0, 0.1)\n",
    "y = step_function(x)\n",
    "# let's draw the step function\n",
    "plt.plot(x, y)\n",
    "\n"
   ]
  },
  {
   "cell_type": "code",
   "execution_count": 24,
   "id": "8634511a",
   "metadata": {},
   "outputs": [
    {
     "data": {
      "text/plain": [
       "[<matplotlib.lines.Line2D at 0x78f447073be0>]"
      ]
     },
     "execution_count": 24,
     "metadata": {},
     "output_type": "execute_result"
    },
    {
     "data": {
      "image/png": "[encoded data removed]",
      "text/plain": [
       "<Figure size 640x480 with 1 Axes>"
      ]
     },
     "metadata": {},
     "output_type": "display_data"
    }
   ],
   "source": [
    "y = sigmoid(x)\n",
    "plt.plot(x, y)"
   ]
  },
  {
   "cell_type": "markdown",
   "id": "d0abc5bb",
   "metadata": {},
   "source": [
    "## Multilyer Perception using Numpy"
   ]
  },
  {
   "cell_type": "markdown",
   "id": "06bfb7ef",
   "metadata": {},
   "source": [
    "### Practice np.dot with Numpy"
   ]
  },
  {
   "cell_type": "code",
   "execution_count": 35,
   "id": "438a7fe0",
   "metadata": {},
   "outputs": [
    {
     "name": "stdout",
     "output_type": "stream",
     "text": [
      "x = [1.  0.5]\n",
      "w =\n",
      " [[1 3 5]\n",
      " [2 4 6]]\n",
      "a = [2.1 5.2 8.3]\n"
     ]
    }
   ],
   "source": [
    "# assume that numpy has been imported as np\n",
    "\n",
    "x = np.array([1.0, 0.5])\n",
    "print(f'x = {x}')\n",
    "w = np.array([[1, 3, 5], [2, 4, 6]])\n",
    "print(f'w =\\n {w}')\n",
    "b = np.array([0.1, 0.2, 0.3])\n",
    "\n",
    "a = np.dot(x, w) + b\n",
    "print(f'a = {a}')  # Output: [2. 2.5. 3.]"
   ]
  },
  {
   "cell_type": "code",
   "execution_count": 36,
   "id": "c4ea6c2e",
   "metadata": {},
   "outputs": [
    {
     "name": "stdout",
     "output_type": "stream",
     "text": [
      "z1 = [0.89090318 0.9945137  0.99975154]\n"
     ]
    }
   ],
   "source": [
    "z1 = sigmoid(a)\n",
    "print(f'z1 = {z1}')"
   ]
  },
  {
   "cell_type": "code",
   "execution_count": 38,
   "id": "ed9d1372",
   "metadata": {},
   "outputs": [
    {
     "name": "stdout",
     "output_type": "stream",
     "text": [
      "z2 = [0.99812858 0.99999964]\n"
     ]
    }
   ],
   "source": [
    "w2 = np.array([[1, 4], [2, 5], [3, 6]])\n",
    "b2 = np.array([0.4, 0.3])\n",
    "\n",
    "a2 = np.dot(z1, w2) + b2\n",
    "z2 = sigmoid(a2)\n",
    "print(f'z2 = {z2}')\n"
   ]
  },
  {
   "cell_type": "code",
   "execution_count": 40,
   "id": "ce566dda",
   "metadata": {},
   "outputs": [
    {
     "name": "stdout",
     "output_type": "stream",
     "text": [
      "y = [3.89812786 7.1943843 ]\n"
     ]
    }
   ],
   "source": [
    "# layer 2 to output layer\n",
    "w3 = np.array([[1, 3], [2, 4]])\n",
    "b3 = np.array([0.9, 0.2])\n",
    "a3 = np.dot(z2, w3) + b3\n",
    "y = (a3)\n",
    "print(f'y = {y}')"
   ]
  },
  {
   "cell_type": "markdown",
   "id": "2e98b99b",
   "metadata": {},
   "source": [
    "## Three Layer-MultiLayerPerceptron class"
   ]
  },
  {
   "cell_type": "markdown",
   "id": "71eb9f25",
   "metadata": {},
   "source": [
    "Let's implement three layer-MLP class. Two inputs, 3 nodes in the Layer 1, 2 nodes in L2, 2 output nodes."
   ]
  },
  {
   "cell_type": "code",
   "execution_count": 43,
   "id": "de40ee0b",
   "metadata": {},
   "outputs": [],
   "source": [
    "class ThreeLayerMLP:\n",
    "    def __init__(self):\n",
    "        # Initialize weights and biases for each layer\n",
    "        self.w1 = np.array([[1, 3, 5], [2, 4, 6]])\n",
    "        self.b1 = np.array([0.1, 0.2, 0.3])\n",
    "        \n",
    "        self.w2 = np.array([[1, 4], [2, 5], [3, 6]])\n",
    "        self.b2 = np.array([0.4, 0.3])\n",
    "        \n",
    "        self.w3 = np.array([[1, 3], [2, 4]])\n",
    "        self.b3 = np.array([0.9, 0.2])\n",
    "    \n",
    "    def identify(self, x):\n",
    "        return x\n",
    "\n",
    "\n",
    "    def sigmoid(self, x):\n",
    "        return 1 / (1 + np.exp(-x))\n",
    "    \n",
    "\n",
    "    def forward(self, x):\n",
    "        # Forward pass through the network\n",
    "        a1 = np.dot(x, self.w1) + self.b1\n",
    "        z1 = self.sigmoid(a1)\n",
    "        \n",
    "        a2 = np.dot(z1, self.w2) + self.b2\n",
    "        z2 = self.sigmoid(a2)\n",
    "        \n",
    "        a3 = np.dot(z2, self.w3) + self.b3\n",
    "        y = self.identify(a3)  # No activation function on output layer\n",
    "        \n",
    "        return y\n",
    "    "
   ]
  },
  {
   "cell_type": "code",
   "execution_count": 44,
   "id": "6aa70f05",
   "metadata": {},
   "outputs": [
    {
     "name": "stdout",
     "output_type": "stream",
     "text": [
      "Input to the MLP: [1.  0.5]\n",
      "Output of the MLP: [3.89812786 7.1943843 ]\n"
     ]
    }
   ],
   "source": [
    "mlp = ThreeLayerMLP()\n",
    "x = np.array([1.0, 0.5])\n",
    "print(f'Input to the MLP: {x}')\n",
    "\n",
    "y = mlp.forward(x)\n",
    "print(f'Output of the MLP: {y}')"
   ]
  },
  {
   "cell_type": "code",
   "execution_count": 3,
   "id": "34efb378",
   "metadata": {},
   "outputs": [
    {
     "name": "stdout",
     "output_type": "stream",
     "text": [
      "Input to the MLP: [1.  0.5]\n",
      "Output of the MLP: [3.89812786 7.1943843 ]\n"
     ]
    }
   ],
   "source": [
    "import numpy as np\n",
    "from three_layer_mlp import ThreeLayerMLP\n",
    "\n",
    "mlp = ThreeLayerMLP()\n",
    "x = np.array([1.0, 0.5])\n",
    "print(f'Input to the MLP: {x}') \n",
    "y = mlp.forward(x)\n",
    "print(f'Output of the MLP: {y}')\n"
   ]
  },
  {
   "cell_type": "code",
   "execution_count": null,
   "id": "3f65a947",
   "metadata": {},
   "outputs": [],
   "source": []
  }
 ],
 "metadata": {
  "kernelspec": {
   "display_name": "ece-5831-2025",
   "language": "python",
   "name": "python3"
  },
  "language_info": {
   "codemirror_mode": {
    "name": "ipython",
    "version": 3
   },
   "file_extension": ".py",
   "mimetype": "text/x-python",
   "name": "python",
   "nbconvert_exporter": "python",
   "pygments_lexer": "ipython3",
   "version": "3.10.18"
  }
 },
 "nbformat": 4,
 "nbformat_minor": 5
}
