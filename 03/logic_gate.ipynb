{
 "cells": [
  {
   "cell_type": "markdown",
   "id": "9eaccb3e",
   "metadata": {},
   "source": [
    "# Logic Gate \n",
    "\n",
    "by Jaerock Kwon"
   ]
  },
  {
   "cell_type": "code",
   "execution_count": 7,
   "id": "ccd01707",
   "metadata": {},
   "outputs": [],
   "source": [
    "def and_gate(x1, x2):\n",
    "    w1, w2, theta = 0.5, 0.2, 0.6\n",
    "    tmp = x1 * w1 + x2 * w2\n",
    "    if tmp > theta:\n",
    "        return 1\n",
    "    return 0"
   ]
  },
  {
   "cell_type": "markdown",
   "id": "7468e9e7",
   "metadata": {},
   "source": [
    "Let's test the `and_gate` function."
   ]
  },
  {
   "cell_type": "code",
   "execution_count": 8,
   "id": "5b9703f3",
   "metadata": {},
   "outputs": [
    {
     "name": "stdout",
     "output_type": "stream",
     "text": [
      "0\n",
      "0\n",
      "0\n",
      "1\n"
     ]
    }
   ],
   "source": [
    "print(and_gate(0, 0))  # 0\n",
    "print(and_gate(1, 0))  # 0\n",
    "print(and_gate(0, 1))  # 0\n",
    "print(and_gate(1, 1))  # 1\n"
   ]
  },
  {
   "cell_type": "code",
   "execution_count": 11,
   "id": "9f9c9072",
   "metadata": {},
   "outputs": [
    {
     "name": "stdout",
     "output_type": "stream",
     "text": [
      "0 AND 0 = 0\n",
      "0 AND 1 = 0\n",
      "1 AND 0 = 0\n",
      "1 AND 1 = 1\n"
     ]
    }
   ],
   "source": [
    "inputs = [(0, 0), (0, 1), (1, 0), (1, 1)]\n",
    "for input in inputs:\n",
    "    print(f'{input[0]} AND {input[1]} = {and_gate(input[0], input[1])}')\n"
   ]
  },
  {
   "cell_type": "markdown",
   "id": "1e0243ae",
   "metadata": {},
   "source": [
    "## Logic Gate class"
   ]
  },
  {
   "cell_type": "code",
   "execution_count": 14,
   "id": "25372e64",
   "metadata": {},
   "outputs": [],
   "source": [
    "class LogicGate:\n",
    "    def __init__(self): #, w1, w2, theta):\n",
    "        #self.w1 = w1\n",
    "        #self.w2 = w2\n",
    "        #self.theta = theta\n",
    "        pass\n",
    "\n",
    "\n",
    "    def _is_over_threshold(self, tmp, theta):\n",
    "        return 1 if tmp > theta else 0\n",
    "\n",
    "\n",
    "    def and_gate(self, x1, x2):\n",
    "        w1, w2, theta = 0.5, 0.2, 0.6\n",
    "        return self._is_over_threshold(x1 * w1 + x2 * w2, theta)\n",
    "\n",
    "\n",
    "    def nand_gate(self, x1, x2):\n",
    "        w1, w2, theta = -0.5, -0.2, -0.6\n",
    "        return self._is_over_threshold(x1 * w1 + x2 * w2, theta)\n",
    "\n",
    "\n",
    "    def or_gate(self, x1, x2):\n",
    "        w1, w2, theta = 2, 2, 1.8\n",
    "        return self._is_over_threshold(x1 * w1 + x2 * w2, theta)\n",
    "\n",
    "\n",
    "    def nor_gate(self, x1, x2):\n",
    "        w1, w2, theta = -2, -2, -1.8\n",
    "        return self._is_over_threshold(x1 * w1 + x2 * w2, theta)\n",
    "\n",
    "\n",
    "    def test(self):\n",
    "        inputs = [(0, 0), (0, 1), (1, 0), (1, 1)]\n",
    "        for input in inputs:\n",
    "            print(f'{input[0]} AND {input[1]} = {self.and_gate(input[0], input[1])}')\n",
    "        \n",
    "        for input in inputs:\n",
    "            print(f'{input[0]} NAND {input[1]} = {self.nand_gate(input[0], input[1])}')\n",
    "        \n",
    "        for input in inputs:\n",
    "            print(f'{input[0]} OR {input[1]} = {self.or_gate(input[0], input[1])}')\n",
    "        \n",
    "        for input in inputs:\n",
    "            print(f'{input[0]} NOR {input[1]} = {self.nor_gate(input[0], input[1])}')   "
   ]
  },
  {
   "cell_type": "code",
   "execution_count": 8,
   "id": "b72b3d4b",
   "metadata": {},
   "outputs": [
    {
     "name": "stdout",
     "output_type": "stream",
     "text": [
      "0 AND 0 = 0\n",
      "0 AND 1 = 0\n",
      "1 AND 0 = 0\n",
      "1 AND 1 = 1\n",
      "0 NAND 0 = 1\n",
      "0 NAND 1 = 1\n",
      "1 NAND 0 = 1\n",
      "1 NAND 1 = 0\n",
      "0 OR 0 = 0\n",
      "0 OR 1 = 1\n",
      "1 OR 0 = 1\n",
      "1 OR 1 = 1\n",
      "0 NOR 0 = 1\n",
      "0 NOR 1 = 0\n",
      "1 NOR 0 = 0\n",
      "1 NOR 1 = 0\n"
     ]
    }
   ],
   "source": [
    "logic_gate = LogicGate()\n",
    "logic_gate.test()"
   ]
  },
  {
   "cell_type": "markdown",
   "id": "8e33d1eb",
   "metadata": {},
   "source": [
    "## Test LogicGate class\n"
   ]
  },
  {
   "cell_type": "code",
   "execution_count": 1,
   "id": "5074bc70",
   "metadata": {},
   "outputs": [],
   "source": [
    "import logic_gate\n"
   ]
  },
  {
   "cell_type": "code",
   "execution_count": 2,
   "id": "eef65bee",
   "metadata": {},
   "outputs": [],
   "source": [
    "my_logic_gate = logic_gate.LogicGate()"
   ]
  },
  {
   "cell_type": "markdown",
   "id": "635e49d3",
   "metadata": {},
   "source": [
    "my_logic_gate.and_gate(1, 1)  # 1"
   ]
  },
  {
   "cell_type": "code",
   "execution_count": 4,
   "id": "0db23b9f",
   "metadata": {},
   "outputs": [],
   "source": [
    "from logic_gate import LogicGate"
   ]
  },
  {
   "cell_type": "code",
   "execution_count": 6,
   "id": "1d834dea",
   "metadata": {},
   "outputs": [
    {
     "name": "stdout",
     "output_type": "stream",
     "text": [
      "0 AND 0 = 0\n",
      "0 AND 1 = 0\n",
      "1 AND 0 = 0\n",
      "1 AND 1 = 1\n",
      "0 NAND 0 = 1\n",
      "0 NAND 1 = 1\n",
      "1 NAND 0 = 1\n",
      "1 NAND 1 = 0\n",
      "0 OR 0 = 0\n",
      "0 OR 1 = 1\n",
      "1 OR 0 = 1\n",
      "1 OR 1 = 1\n",
      "0 NOR 0 = 1\n",
      "0 NOR 1 = 0\n",
      "1 NOR 0 = 0\n",
      "1 NOR 1 = 0\n"
     ]
    }
   ],
   "source": [
    "my_logic_gate2 = LogicGate()\n",
    "my_logic_gate2.test()"
   ]
  },
  {
   "cell_type": "markdown",
   "id": "b807149d",
   "metadata": {},
   "source": []
  },
  {
   "cell_type": "markdown",
   "id": "548bb488",
   "metadata": {},
   "source": [
    "## Logic Gate - Numpy Version"
   ]
  },
  {
   "cell_type": "code",
   "execution_count": 4,
   "id": "911bd36a",
   "metadata": {},
   "outputs": [],
   "source": [
    "import numpy as np\n",
    "\n",
    "class LogicGate:\n",
    "    def __init__(self):\n",
    "        pass\n",
    "\n",
    "\n",
    "    def _is_over_threshold(self, w1, w2, theta, x1, x2):\n",
    "        x = np.array([x1, x2])\n",
    "        w = np.array([w1, w2])\n",
    "        return 1 if np.sum(x*w) - theta > 0 else 0\n",
    "    \n",
    "\n",
    "    def and_gate(self, x1, x2):\n",
    "        w1, w2, theta = 0.5, 0.2, 0.6\n",
    "        return self._is_over_threshold(w1, w2, theta, x1, x2)\n",
    "\n",
    "\n",
    "    def nand_gate(self, x1, x2):\n",
    "        w1, w2, theta = -0.5, -0.2, -0.6\n",
    "        return self._is_over_threshold(w1, w2, theta, x1, x2)\n",
    "\n",
    "\n",
    "    def or_gate(self, x1, x2):\n",
    "        w1, w2, theta = 2, 2, 1.8\n",
    "        return self._is_over_threshold(w1, w2, theta, x1, x2)\n",
    "\n",
    "\n",
    "    def nor_gate(self, x1, x2):\n",
    "        w1, w2, theta = -2, -2, -1.8\n",
    "        return self._is_over_threshold(w1, w2, theta, x1, x2)\n",
    "    \n",
    "\n",
    "    def xor_gate(self, x1, x2):\n",
    "        s1 = self.nand_gate(x1, x2)\n",
    "        s2 = self.or_gate(x1, x2)\n",
    "        y = self.and_gate(s1, s2)\n",
    "        return y\n",
    "\n",
    "\n",
    "    def test(self):\n",
    "        inputs = [(0, 0), (0, 1), (1, 0), (1, 1)]\n",
    "        print('-----')\n",
    "        for input in inputs:\n",
    "            print(f'{input[0]} AND {input[1]} = {self.and_gate(input[0], input[1])}')\n",
    "        \n",
    "        print('-----')\n",
    "        for input in inputs:\n",
    "            print(f'{input[0]} NAND {input[1]} = {self.nand_gate(input[0], input[1])}')\n",
    "        \n",
    "        print('-----')\n",
    "        for input in inputs:\n",
    "            print(f'{input[0]} OR {input[1]} = {self.or_gate(input[0], input[1])}')\n",
    "        \n",
    "        print('-----')\n",
    "        for input in inputs:\n",
    "            print(f'{input[0]} NOR {input[1]} = {self.nor_gate(input[0], input[1])}')   \n",
    "\n",
    "        print('-----')\n",
    "        for input in inputs:\n",
    "            print(f'{input[0]} XOR {input[1]} = {self.xor_gate(input[0], input[1])}') "
   ]
  },
  {
   "cell_type": "code",
   "execution_count": 5,
   "id": "4c5f2e56",
   "metadata": {},
   "outputs": [
    {
     "name": "stdout",
     "output_type": "stream",
     "text": [
      "-----\n",
      "0 AND 0 = 0\n",
      "0 AND 1 = 0\n",
      "1 AND 0 = 0\n",
      "1 AND 1 = 1\n",
      "-----\n",
      "0 NAND 0 = 1\n",
      "0 NAND 1 = 1\n",
      "1 NAND 0 = 1\n",
      "1 NAND 1 = 0\n",
      "-----\n",
      "0 OR 0 = 0\n",
      "0 OR 1 = 1\n",
      "1 OR 0 = 1\n",
      "1 OR 1 = 1\n",
      "-----\n",
      "0 NOR 0 = 1\n",
      "0 NOR 1 = 0\n",
      "1 NOR 0 = 0\n",
      "1 NOR 1 = 0\n",
      "-----\n",
      "0 XOR 0 = 0\n",
      "0 XOR 1 = 1\n",
      "1 XOR 0 = 1\n",
      "1 XOR 1 = 0\n"
     ]
    }
   ],
   "source": [
    "# I've just added XOR gate implementation and test code.\n",
    "\n",
    "logic_gate = LogicGate()\n",
    "logic_gate.test()"
   ]
  },
  {
   "cell_type": "code",
   "execution_count": 6,
   "id": "232c7470",
   "metadata": {},
   "outputs": [],
   "source": [
    "from logic_gate import LogicGate"
   ]
  },
  {
   "cell_type": "code",
   "execution_count": 7,
   "id": "4e44ce5f",
   "metadata": {},
   "outputs": [
    {
     "name": "stdout",
     "output_type": "stream",
     "text": [
      "-----\n",
      "0 AND 0 = 0\n",
      "0 AND 1 = 0\n",
      "1 AND 0 = 0\n",
      "1 AND 1 = 1\n",
      "-----\n",
      "0 NAND 0 = 1\n",
      "0 NAND 1 = 1\n",
      "1 NAND 0 = 1\n",
      "1 NAND 1 = 0\n",
      "-----\n",
      "0 OR 0 = 0\n",
      "0 OR 1 = 1\n",
      "1 OR 0 = 1\n",
      "1 OR 1 = 1\n",
      "-----\n",
      "0 NOR 0 = 1\n",
      "0 NOR 1 = 0\n",
      "1 NOR 0 = 0\n",
      "1 NOR 1 = 0\n",
      "-----\n",
      "0 XOR 0 = 0\n",
      "0 XOR 1 = 1\n",
      "1 XOR 0 = 1\n",
      "1 XOR 1 = 0\n"
     ]
    }
   ],
   "source": [
    "logic_gate = LogicGate()\n",
    "logic_gate.test()"
   ]
  },
  {
   "cell_type": "code",
   "execution_count": null,
   "id": "ce3142c0",
   "metadata": {},
   "outputs": [],
   "source": []
  }
 ],
 "metadata": {
  "kernelspec": {
   "display_name": "ece-5831-2025",
   "language": "python",
   "name": "python3"
  },
  "language_info": {
   "codemirror_mode": {
    "name": "ipython",
    "version": 3
   },
   "file_extension": ".py",
   "mimetype": "text/x-python",
   "name": "python",
   "nbconvert_exporter": "python",
   "pygments_lexer": "ipython3",
   "version": "3.10.18"
  }
 },
 "nbformat": 4,
 "nbformat_minor": 5
}
