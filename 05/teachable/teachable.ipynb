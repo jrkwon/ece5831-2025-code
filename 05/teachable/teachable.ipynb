{
 "cells": [
  {
   "cell_type": "markdown",
   "id": "d01b7c9f",
   "metadata": {},
   "source": [
    "# Let's do Teachable"
   ]
  },
  {
   "cell_type": "markdown",
   "id": "cbb08531",
   "metadata": {},
   "source": [
    "Note: Teachable model file is only compatiable with Tensorflow 2.12. So use `==2.12` when you install tensorflow. \n",
    "\n",
    "```\n",
    "# For GPU users\n",
    "pip install tensorflow[and-cuda]==2.12\n",
    "# For CPU users\n",
    "pip install tensorflow==2.12\n",
    "```"
   ]
  },
  {
   "cell_type": "markdown",
   "id": "1f59cae5",
   "metadata": {},
   "source": [
    "## Rock, Paper, Scissors"
   ]
  },
  {
   "cell_type": "markdown",
   "id": "12adb303",
   "metadata": {},
   "source": [
    "Let's try the sample code."
   ]
  },
  {
   "cell_type": "code",
   "execution_count": 2,
   "id": "d21de297",
   "metadata": {},
   "outputs": [],
   "source": [
    "from keras.models import load_model  # TensorFlow is required for Keras to work\n",
    "from PIL import Image, ImageOps  # Install pillow instead of PIL\n",
    "import numpy as np"
   ]
  },
  {
   "cell_type": "code",
   "execution_count": 3,
   "id": "3f3d2162",
   "metadata": {},
   "outputs": [],
   "source": [
    "# Disable scientific notation for clarity\n",
    "np.set_printoptions(suppress=True)"
   ]
  },
  {
   "cell_type": "code",
   "execution_count": 4,
   "id": "01fb4a43",
   "metadata": {},
   "outputs": [
    {
     "name": "stderr",
     "output_type": "stream",
     "text": [
      "2025-10-06 19:52:40.584364: I tensorflow/core/common_runtime/process_util.cc:146] Creating new thread pool with default inter op setting: 2. Tune using inter_op_parallelism_threads for best performance.\n"
     ]
    }
   ],
   "source": [
    "# Load the model\n",
    "model = load_model(\"model/keras_model.h5\", compile=False)\n"
   ]
  },
  {
   "cell_type": "code",
   "execution_count": 5,
   "id": "832e8494",
   "metadata": {},
   "outputs": [],
   "source": [
    "# Load the labels\n",
    "class_names = open(\"model/labels.txt\", \"r\").readlines()\n"
   ]
  },
  {
   "cell_type": "code",
   "execution_count": 6,
   "id": "b161b3d1",
   "metadata": {},
   "outputs": [],
   "source": [
    "# Create the array of the right shape to feed into the keras model\n",
    "# The 'length' or number of images you can put into the array is\n",
    "# determined by the first position in the shape tuple, in this case 1\n",
    "data = np.ndarray(shape=(1, 224, 224, 3), dtype=np.float32)"
   ]
  },
  {
   "cell_type": "code",
   "execution_count": 23,
   "id": "40ffc172",
   "metadata": {},
   "outputs": [],
   "source": [
    "# Replace this with the path to your image\n",
    "image = Image.open(\"test_images/scissors4-black-bg.png\").convert(\"RGB\")"
   ]
  },
  {
   "cell_type": "code",
   "execution_count": 9,
   "id": "468e1f67",
   "metadata": {},
   "outputs": [],
   "source": [
    "# resizing the image to be at least 224x224 and then cropping from the center\n",
    "size = (224, 224)\n",
    "image = ImageOps.fit(image, size, Image.Resampling.LANCZOS)\n",
    "\n",
    "# turn the image into a numpy array\n",
    "image_array = np.asarray(image)\n",
    "\n",
    "# Normalize the image\n",
    "normalized_image_array = (image_array.astype(np.float32) / 127.5) - 1\n",
    "\n",
    "# Load the image into the array\n",
    "data[0] = normalized_image_array\n",
    "\n"
   ]
  },
  {
   "cell_type": "code",
   "execution_count": 25,
   "id": "a3311252",
   "metadata": {},
   "outputs": [
    {
     "name": "stdout",
     "output_type": "stream",
     "text": [
      "1/1 [==============================] - 0s 23ms/step\n",
      "Class: scissors2\n",
      "Confidence Score: 0.9982237\n"
     ]
    }
   ],
   "source": [
    "# Predicts the model\n",
    "prediction = model.predict(data)\n",
    "index = np.argmax(prediction)\n",
    "class_name = class_names[index]\n",
    "confidence_score = prediction[0][index]\n",
    "\n",
    "# Print prediction and confidence score\n",
    "print(\"Class:\", class_name[2:], end=\"\")\n",
    "print(\"Confidence Score:\", confidence_score)"
   ]
  },
  {
   "cell_type": "code",
   "execution_count": 10,
   "id": "112b57d4",
   "metadata": {},
   "outputs": [
    {
     "name": "stderr",
     "output_type": "stream",
     "text": [
      "[ WARN:0@116.549] global /croot/opencv-suite_1691620365762/work/modules/videoio/src/cap_gstreamer.cpp (862) isPipelinePlaying OpenCV | GStreamer warning: GStreamer: pipeline have not been created\n"
     ]
    },
    {
     "name": "stdout",
     "output_type": "stream",
     "text": [
      "1/1 [==============================] - 1s 561ms/step\n",
      "Class: rock\n",
      "Confidence Score: 0.9999759\n"
     ]
    }
   ],
   "source": [
    "import cv2\n",
    "\n",
    "# Capture image from webcam\n",
    "cap = cv2.VideoCapture(0)\n",
    "ret, frame = cap.read()\n",
    "cap.release()\n",
    "\n",
    "# Convert the frame (BGR) to PIL Image (RGB)\n",
    "image = Image.fromarray(cv2.cvtColor(frame, cv2.COLOR_BGR2RGB))\n",
    "\n",
    "# Resize and preprocess as before\n",
    "image = ImageOps.fit(image, size, Image.Resampling.LANCZOS)\n",
    "image_array = np.asarray(image)\n",
    "normalized_image_array = (image_array.astype(np.float32) / 127.5) - 1\n",
    "data[0] = normalized_image_array\n",
    "\n",
    "# Predict using the model\n",
    "prediction = model.predict(data)\n",
    "index = np.argmax(prediction)\n",
    "class_name = class_names[index]\n",
    "confidence_score = prediction[0][index]\n",
    "\n",
    "print(\"Class:\", class_name[2:], end=\"\")\n",
    "print(\"Confidence Score:\", confidence_score)"
   ]
  },
  {
   "cell_type": "code",
   "execution_count": 17,
   "id": "914d6661",
   "metadata": {},
   "outputs": [
    {
     "name": "stderr",
     "output_type": "stream",
     "text": [
      "[ WARN:0@1424.493] global /croot/opencv-suite_1691620365762/work/modules/videoio/src/cap_gstreamer.cpp (862) isPipelinePlaying OpenCV | GStreamer warning: GStreamer: pipeline have not been created\n"
     ]
    },
    {
     "name": "stdout",
     "output_type": "stream",
     "text": [
      "1/1 [==============================] - 0s 29ms/step\n",
      "Class: rock | Confidence: 0.9996\n",
      "1/1 [==============================] - 0s 53ms/step\n",
      "Class: rock | Confidence: 0.9998\n",
      "1/1 [==============================] - 0s 24ms/step\n",
      "Class: rock | Confidence: 0.9997\n",
      "1/1 [==============================] - 0s 73ms/step\n",
      "Class: rock | Confidence: 0.9997\n",
      "1/1 [==============================] - 0s 109ms/step\n",
      "Class: rock | Confidence: 0.9997\n",
      "1/1 [==============================] - 0s 33ms/step\n",
      "Class: rock | Confidence: 0.9978\n",
      "1/1 [==============================] - 0s 41ms/step\n",
      "Class: rock | Confidence: 0.9974\n",
      "1/1 [==============================] - 0s 21ms/step\n",
      "Class: rock | Confidence: 0.9993\n",
      "1/1 [==============================] - 0s 61ms/step\n",
      "Class: rock | Confidence: 0.9981\n",
      "1/1 [==============================] - 0s 38ms/step\n",
      "Class: rock | Confidence: 0.9987\n",
      "1/1 [==============================] - 0s 26ms/step\n",
      "Class: rock | Confidence: 0.9992\n",
      "1/1 [==============================] - 0s 21ms/step\n",
      "Class: rock | Confidence: 0.9998\n",
      "1/1 [==============================] - 0s 20ms/step\n",
      "Class: rock | Confidence: 0.9997\n",
      "Stopped by user.\n"
     ]
    }
   ],
   "source": [
    "import time\n",
    "\n",
    "# Open webcam\n",
    "cap = cv2.VideoCapture(0)\n",
    "\n",
    "try:\n",
    "    while True:\n",
    "        ret, frame = cap.read()\n",
    "        if not ret:\n",
    "            print(\"Failed to grab frame\")\n",
    "            break\n",
    "\n",
    "        # Show the live camera image\n",
    "        cv2.imshow('Live Camera', frame)\n",
    "        \n",
    "        # Convert frame to PIL Image\n",
    "        image = Image.fromarray(cv2.cvtColor(frame, cv2.COLOR_BGR2RGB))\n",
    "        image = ImageOps.fit(image, size, Image.Resampling.LANCZOS)\n",
    "        image_array = np.asarray(image)\n",
    "        normalized_image_array = (image_array.astype(np.float32) / 127.5) - 1\n",
    "        data[0] = normalized_image_array\n",
    "\n",
    "        # Predict\n",
    "        prediction = model.predict(data)\n",
    "        index = np.argmax(prediction)\n",
    "        class_name = class_names[index]\n",
    "        confidence_score = prediction[0][index]\n",
    "\n",
    "        print(f\"Class: {class_name[2:].strip()} | Confidence: {confidence_score:.4f}\")\n",
    "\n",
    "        time.sleep(0.5)  # Adjust delay as needed\n",
    "\n",
    "except KeyboardInterrupt:\n",
    "    print(\"Stopped by user.\")\n",
    "\n",
    "finally:\n",
    "    cap.release()\n",
    "    cv2.destroyAllWindows()"
   ]
  },
  {
   "cell_type": "code",
   "execution_count": null,
   "id": "3a2da953",
   "metadata": {},
   "outputs": [],
   "source": [
    "import cv2\n",
    "\n",
    "# Open webcam\n",
    "cap = cv2.VideoCapture(0)\n",
    "\n",
    "try:\n",
    "    while True:\n",
    "        ret, frame = cap.read()\n",
    "        if not ret:\n",
    "            print(\"Failed to grab frame\")\n",
    "            break\n",
    "\n",
    "        # Show the live camera image\n",
    "        cv2.imshow('Live Camera', frame)\n",
    "\n",
    "        # Press 'q' to exit\n",
    "        if cv2.waitKey(1) & 0xFF == ord('q'):\n",
    "            break\n",
    "\n",
    "finally:\n",
    "    cap.release()\n",
    "    cv2.destroyAllWindows()"
   ]
  },
  {
   "cell_type": "code",
   "execution_count": null,
   "id": "3fd8f687",
   "metadata": {},
   "outputs": [],
   "source": []
  }
 ],
 "metadata": {
  "kernelspec": {
   "display_name": "teachable-2025",
   "language": "python",
   "name": "python3"
  },
  "language_info": {
   "codemirror_mode": {
    "name": "ipython",
    "version": 3
   },
   "file_extension": ".py",
   "mimetype": "text/x-python",
   "name": "python",
   "nbconvert_exporter": "python",
   "pygments_lexer": "ipython3",
   "version": "3.10.13"
  }
 },
 "nbformat": 4,
 "nbformat_minor": 5
}
