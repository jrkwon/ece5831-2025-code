{
 "cells": [
  {
   "cell_type": "markdown",
   "id": "d1e16db8",
   "metadata": {},
   "source": [
    "# MNIST"
   ]
  },
  {
   "cell_type": "markdown",
   "id": "df21d01f",
   "metadata": {},
   "source": [
    "## Download Mnist Data"
   ]
  },
  {
   "cell_type": "code",
   "execution_count": null,
   "id": "0cf16fe1",
   "metadata": {},
   "outputs": [],
   "source": []
  },
  {
   "cell_type": "code",
   "execution_count": null,
   "id": "72d7f3da",
   "metadata": {},
   "outputs": [],
   "source": []
  },
  {
   "cell_type": "code",
   "execution_count": 7,
   "id": "c84ddbfd",
   "metadata": {},
   "outputs": [
    {
     "name": "stdout",
     "output_type": "stream",
     "text": [
      "Downloading train-images-idx3-ubyte.gz...\n",
      "Downloading train-labels-idx1-ubyte.gz...\n",
      "Downloading t10k-images-idx3-ubyte.gz...\n",
      "Downloading t10k-labels-idx1-ubyte.gz...\n",
      "Download complete.\n"
     ]
    }
   ],
   "source": [
    "import urllib.request\n",
    "import os\n",
    "\n",
    "folder = \"mnist\"\n",
    "if os.path.exists(folder) is False:\n",
    "    os.makedirs(folder, exist_ok=True)\n",
    "\n",
    "base_url = \"http://jrkwon.com/data/ece5831/mnist/\"\n",
    "files = [\n",
    "    \"train-images-idx3-ubyte.gz\",\n",
    "    \"train-labels-idx1-ubyte.gz\",\n",
    "    \"t10k-images-idx3-ubyte.gz\",\n",
    "    \"t10k-labels-idx1-ubyte.gz\"\n",
    "]\n",
    "\n",
    "for filename in files:\n",
    "    print(f\"Downloading {filename}...\")\n",
    "    filepath = os.path.join(folder, filename)\n",
    "\n",
    "    # check if file already exists\n",
    "    if os.path.exists(filepath):\n",
    "        print(f\"{filename} already exists. Skipping download.\")\n",
    "        continue\n",
    "\n",
    "    # to resolve 406 Not Acceptable error\n",
    "    opener = urllib.request.build_opener()\n",
    "    opener.addheaders = [('Accept', '')]\n",
    "    urllib.request.install_opener(opener)\n",
    "\n",
    "    urllib.request.urlretrieve(base_url + filename, filepath)\n",
    "\n",
    "print(\"Download complete.\")"
   ]
  },
  {
   "cell_type": "markdown",
   "id": "f0f5cc17",
   "metadata": {},
   "source": [
    "### Create necessary functions"
   ]
  },
  {
   "cell_type": "code",
   "execution_count": 8,
   "id": "cdf4b6c8",
   "metadata": {},
   "outputs": [],
   "source": [
    "import urllib.request\n",
    "import os\n",
    "\n",
    "folder = \"mnist\"\n",
    "base_url = \"http://jrkwon.com/data/ece5831/mnist/\"\n",
    "files = [\n",
    "    \"train-images-idx3-ubyte.gz\",\n",
    "    \"train-labels-idx1-ubyte.gz\",\n",
    "    \"t10k-images-idx3-ubyte.gz\",\n",
    "    \"t10k-labels-idx1-ubyte.gz\"\n",
    "]\n",
    "\n",
    "# Function to download MNIST data\n",
    "def _download_mnist():\n",
    "\n",
    "    if os.path.exists(folder) is False:\n",
    "        os.makedirs(folder, exist_ok=True)\n",
    "\n",
    "    for filename in files:\n",
    "        print(f\"Downloading {filename}...\")\n",
    "        filepath = os.path.join(folder, filename)\n",
    "\n",
    "        # check if file already exists\n",
    "        if os.path.exists(filepath):\n",
    "            print(f\"{filename} already exists. Skipping download.\")\n",
    "            continue\n",
    "\n",
    "        # to resolve 406 Not Acceptable error\n",
    "        opener = urllib.request.build_opener()\n",
    "        opener.addheaders = [('Accept', '')]\n",
    "        urllib.request.install_opener(opener)\n",
    "\n",
    "        urllib.request.urlretrieve(base_url + filename, filepath)\n",
    "\n",
    "    print(\"Download complete.\")"
   ]
  },
  {
   "cell_type": "code",
   "execution_count": 10,
   "id": "82748b18",
   "metadata": {},
   "outputs": [
    {
     "name": "stdout",
     "output_type": "stream",
     "text": [
      "Downloading train-images-idx3-ubyte.gz...\n",
      "train-images-idx3-ubyte.gz already exists. Skipping download.\n",
      "Downloading train-labels-idx1-ubyte.gz...\n",
      "train-labels-idx1-ubyte.gz already exists. Skipping download.\n",
      "Downloading t10k-images-idx3-ubyte.gz...\n",
      "t10k-images-idx3-ubyte.gz already exists. Skipping download.\n",
      "Downloading t10k-labels-idx1-ubyte.gz...\n",
      "t10k-labels-idx1-ubyte.gz already exists. Skipping download.\n",
      "Download complete.\n"
     ]
    }
   ],
   "source": [
    "# Test _download_mnist function\n",
    "\n",
    "_download_mnist()"
   ]
  },
  {
   "cell_type": "markdown",
   "id": "840f6108",
   "metadata": {},
   "source": [
    "### Convert Mnist Data to Pickle"
   ]
  },
  {
   "cell_type": "code",
   "execution_count": 12,
   "id": "88aad2be",
   "metadata": {},
   "outputs": [],
   "source": [
    "import gzip\n",
    "\n",
    "filepath = os.path.join(folder, files[0])\n",
    "\n",
    "f = gzip.open(filepath, 'rb')\n",
    "f.read(16)\n",
    "buf = f.read(28 * 28 * 60000)   \n"
   ]
  },
  {
   "cell_type": "code",
   "execution_count": 17,
   "id": "421b7542",
   "metadata": {},
   "outputs": [],
   "source": [
    "import numpy as np"
   ]
  },
  {
   "cell_type": "code",
   "execution_count": 21,
   "id": "5f290506",
   "metadata": {},
   "outputs": [],
   "source": [
    "img = np.array(buf[0:28*28])\n",
    "# Convert the ubyte array to a numpy array of uint8 and reshape to 28x28\n",
    "img_np = np.frombuffer(img, dtype=np.uint8).reshape(28, 28)"
   ]
  },
  {
   "cell_type": "code",
   "execution_count": 23,
   "id": "0b6d9a11",
   "metadata": {},
   "outputs": [
    {
     "data": {
      "text/plain": [
       "<matplotlib.image.AxesImage at 0x78df48c23fd0>"
      ]
     },
     "execution_count": 23,
     "metadata": {},
     "output_type": "execute_result"
    },
    {
     "data": {
      "image/png": "[encoded data removed]",
      "text/plain": [
       "<Figure size 640x480 with 1 Axes>"
      ]
     },
     "metadata": {},
     "output_type": "display_data"
    }
   ],
   "source": [
    "import matplotlib.pyplot as plt\n",
    "\n",
    "plt.imshow(img_np, cmap='gray')"
   ]
  },
  {
   "cell_type": "code",
   "execution_count": 24,
   "id": "d90a7331",
   "metadata": {},
   "outputs": [
    {
     "name": "stdout",
     "output_type": "stream",
     "text": [
      "5\n"
     ]
    }
   ],
   "source": [
    "# read label file\n",
    "filepath = os.path.join(folder, files[1])\n",
    "f = gzip.open(filepath, 'rb')\n",
    "f.read(8)\n",
    "labels_buf = f.read(60000)\n",
    "labels = np.frombuffer(labels_buf, dtype=np.uint8)\n",
    "print(labels[0])"
   ]
  },
  {
   "cell_type": "markdown",
   "id": "bd7541ac",
   "metadata": {},
   "source": [
    "### Functions to load images and labels"
   ]
  },
  {
   "cell_type": "code",
   "execution_count": 27,
   "id": "7d273d5a",
   "metadata": {},
   "outputs": [],
   "source": [
    "import gzip\n",
    "import numpy as np\n",
    "import matplotlib.pyplot as plt \n"
   ]
  },
  {
   "cell_type": "code",
   "execution_count": 26,
   "id": "324491ca",
   "metadata": {},
   "outputs": [],
   "source": [
    "def _load_images(file_path):\n",
    "\n",
    "    with gzip.open(file_path, 'rb') as f:\n",
    "        f.read(16)  # Skip the header\n",
    "        buf = f.read()  # Read the rest of the file\n",
    "        images = np.frombuffer(buf, dtype=np.uint8)\n",
    "        images = images.reshape(-1, 28, 28)  # Reshape to (num_images, 28, 28)\n",
    "    return images"
   ]
  },
  {
   "cell_type": "code",
   "execution_count": 33,
   "id": "7906d377",
   "metadata": {},
   "outputs": [
    {
     "name": "stdout",
     "output_type": "stream",
     "text": [
      "(60000, 28, 28)\n"
     ]
    },
    {
     "data": {
      "text/plain": [
       "<matplotlib.image.AxesImage at 0x78df48928670>"
      ]
     },
     "execution_count": 33,
     "metadata": {},
     "output_type": "execute_result"
    },
    {
     "data": {
      "image/png": "[encoded data removed]",
      "text/plain": [
       "<Figure size 640x480 with 1 Axes>"
      ]
     },
     "metadata": {},
     "output_type": "display_data"
    }
   ],
   "source": [
    "# Test the function\n",
    "images = _load_images(os.path.join(folder, files[0]))\n",
    "print(images.shape)  # Should print (60000, 28, 28)\n",
    "plt.imshow(images[0], cmap='gray')"
   ]
  },
  {
   "cell_type": "code",
   "execution_count": 32,
   "id": "e89d54d2",
   "metadata": {},
   "outputs": [
    {
     "data": {
      "text/plain": [
       "<matplotlib.image.AxesImage at 0x78df48aa9420>"
      ]
     },
     "execution_count": 32,
     "metadata": {},
     "output_type": "execute_result"
    },
    {
     "data": {
      "image/png": "[encoded data removed]",
      "text/plain": [
       "<Figure size 640x480 with 1 Axes>"
      ]
     },
     "metadata": {},
     "output_type": "display_data"
    }
   ],
   "source": [
    "plt.imshow(images[1], cmap='gray')"
   ]
  },
  {
   "cell_type": "code",
   "execution_count": 34,
   "id": "20b33a41",
   "metadata": {},
   "outputs": [],
   "source": [
    "def _load_labels(file_path):\n",
    "\n",
    "    with gzip.open(file_path, 'rb') as f:\n",
    "        f.read(8)  # Skip the header\n",
    "        buf = f.read()  # Read the rest of the file\n",
    "        labels = np.frombuffer(buf, dtype=np.uint8)\n",
    "    return labels"
   ]
  },
  {
   "cell_type": "code",
   "execution_count": 35,
   "id": "c4419ee1",
   "metadata": {},
   "outputs": [
    {
     "name": "stdout",
     "output_type": "stream",
     "text": [
      "(60000,)\n",
      "5\n",
      "0\n"
     ]
    }
   ],
   "source": [
    "# Test the function\n",
    "labels = _load_labels(os.path.join(folder, files[1]))\n",
    "print(labels.shape)  # Should print (60000,)\n",
    "print(labels[0])  # Should print the label of the first image \n",
    "print(labels[1])  # Should print the label of the second image \n"
   ]
  },
  {
   "cell_type": "markdown",
   "id": "ca9d5d8b",
   "metadata": {},
   "source": [
    "## Let's make things more beautiful"
   ]
  },
  {
   "cell_type": "code",
   "execution_count": 47,
   "id": "f99092c3",
   "metadata": {},
   "outputs": [],
   "source": [
    "import gzip\n",
    "import numpy as np\n",
    "import pickle\n",
    "import os\n",
    "import matplotlib.pyplot as plt"
   ]
  },
  {
   "cell_type": "code",
   "execution_count": 39,
   "id": "bb8e5691",
   "metadata": {},
   "outputs": [],
   "source": [
    "# dictionary to map a file type to its file name\n",
    "key_to_file = {\n",
    "    \"train_images\": \"train-images-idx3-ubyte.gz\",\n",
    "    \"train_labels\": \"train-labels-idx1-ubyte.gz\",\n",
    "    \"test_images\": \"t10k-images-idx3-ubyte.gz\",\n",
    "    \"test_labels\": \"t10k-labels-idx1-ubyte.gz\"\n",
    "}\n",
    "mnist_data_dir = \"mnist\"    # location for .gz files\n",
    "mnist_pickle_name = \"mnist.pkl\""
   ]
  },
  {
   "cell_type": "code",
   "execution_count": 41,
   "id": "9f7d919a",
   "metadata": {},
   "outputs": [],
   "source": [
    "# Function to download MNIST data\n",
    "def _download(filename):\n",
    "\n",
    "    if os.path.exists(folder) is False:\n",
    "        os.makedirs(folder, exist_ok=True)\n",
    "\n",
    "    print(f\"Downloading {filename}...\")\n",
    "    filepath = os.path.join(folder, filename)\n",
    "\n",
    "    # check if file already exists\n",
    "    if os.path.exists(filepath):\n",
    "        print(f\"{filename} already exists. Skipping download.\")\n",
    "        return\n",
    "\n",
    "    # to resolve 406 Not Acceptable error\n",
    "    opener = urllib.request.build_opener()\n",
    "    opener.addheaders = [('Accept', '')]\n",
    "    urllib.request.install_opener(opener)\n",
    "\n",
    "    urllib.request.urlretrieve(base_url + filename, filepath)\n",
    "\n",
    "    print(\"Download complete.\")"
   ]
  },
  {
   "cell_type": "code",
   "execution_count": 42,
   "id": "5c613bb6",
   "metadata": {},
   "outputs": [],
   "source": [
    "def _download_mnist():\n",
    "\n",
    "    for key in key_to_file:\n",
    "        _download(key_to_file[key])"
   ]
  },
  {
   "cell_type": "code",
   "execution_count": 44,
   "id": "69d02fc8",
   "metadata": {},
   "outputs": [
    {
     "name": "stdout",
     "output_type": "stream",
     "text": [
      "Downloading train-images-idx3-ubyte.gz...\n",
      "train-images-idx3-ubyte.gz already exists. Skipping download.\n",
      "Downloading train-labels-idx1-ubyte.gz...\n",
      "train-labels-idx1-ubyte.gz already exists. Skipping download.\n",
      "Downloading t10k-images-idx3-ubyte.gz...\n",
      "t10k-images-idx3-ubyte.gz already exists. Skipping download.\n",
      "Downloading t10k-labels-idx1-ubyte.gz...\n",
      "t10k-labels-idx1-ubyte.gz already exists. Skipping download.\n"
     ]
    }
   ],
   "source": [
    "# Test the function\n",
    "_download_mnist()"
   ]
  },
  {
   "cell_type": "code",
   "execution_count": 45,
   "id": "7e5b3353",
   "metadata": {},
   "outputs": [],
   "source": [
    "# Function to load MNIST images\n",
    "def _load_images(file_path):\n",
    "\n",
    "    with gzip.open(file_path, 'rb') as f:\n",
    "        f.read(16)  # Skip the header\n",
    "        buf = f.read()  # Read the rest of the file\n",
    "        images = np.frombuffer(buf, dtype=np.uint8)\n",
    "        images = images.reshape(-1, 28, 28)  # Reshape to (num_images, 28, 28)\n",
    "    return images"
   ]
  },
  {
   "cell_type": "code",
   "execution_count": 46,
   "id": "6cf2b38e",
   "metadata": {},
   "outputs": [],
   "source": [
    "# Function to load MNIST labels\n",
    "def _load_labels(file_path):\n",
    "\n",
    "    with gzip.open(file_path, 'rb') as f:\n",
    "        f.read(8)  # Skip the header\n",
    "        buf = f.read()  # Read the rest of the file\n",
    "        labels = np.frombuffer(buf, dtype=np.uint8)\n",
    "    return labels"
   ]
  },
  {
   "cell_type": "code",
   "execution_count": 48,
   "id": "7296a90d",
   "metadata": {},
   "outputs": [],
   "source": [
    "def _make_dataset():\n",
    "    if os.path.exists(mnist_pickle_name):\n",
    "        print(f\"{mnist_pickle_name} already exists. Loading dataset from pickle file.\")\n",
    "        with open(mnist_pickle_name, 'rb') as f:\n",
    "            mnist_data = pickle.load(f)\n",
    "        return mnist_data\n",
    "\n",
    "    # Load training and test data\n",
    "    train_images = _load_images(os.path.join(mnist_data_dir, key_to_file[\"train_images\"]))\n",
    "    train_labels = _load_labels(os.path.join(mnist_data_dir, key_to_file[\"train_labels\"]))\n",
    "    test_images = _load_images(os.path.join(mnist_data_dir, key_to_file[\"test_images\"]))\n",
    "    test_labels = _load_labels(os.path.join(mnist_data_dir, key_to_file[\"test_labels\"]))\n",
    "\n",
    "    # Package the data into a dictionary\n",
    "    mnist_data = {\n",
    "        \"train_images\": train_images,\n",
    "        \"train_labels\": train_labels,\n",
    "        \"test_images\": test_images,\n",
    "        \"test_labels\": test_labels\n",
    "    }\n",
    "\n",
    "    # Save the dataset as a pickle file\n",
    "    with open(mnist_pickle_name, 'wb') as f:\n",
    "        pickle.dump(mnist_data, f)\n",
    "\n",
    "    print(f\"MNIST dataset created and saved to {mnist_pickle_name}\")\n",
    "    return mnist_data"
   ]
  },
  {
   "cell_type": "code",
   "execution_count": 50,
   "id": "e159db17",
   "metadata": {},
   "outputs": [
    {
     "name": "stdout",
     "output_type": "stream",
     "text": [
      "mnist.pkl already exists. Loading dataset from pickle file.\n"
     ]
    }
   ],
   "source": [
    "dataset = _make_dataset()"
   ]
  },
  {
   "cell_type": "code",
   "execution_count": 54,
   "id": "05a9dd32",
   "metadata": {},
   "outputs": [
    {
     "name": "stdout",
     "output_type": "stream",
     "text": [
      "5\n"
     ]
    },
    {
     "data": {
      "image/png": "[encoded data removed]",
      "text/plain": [
       "<Figure size 640x480 with 1 Axes>"
      ]
     },
     "metadata": {},
     "output_type": "display_data"
    }
   ],
   "source": [
    "img = dataset['train_images'][0]\n",
    "plt.imshow(img, cmap='gray')\n",
    "print(dataset['train_labels'][0])\n",
    "plt.show()"
   ]
  },
  {
   "cell_type": "markdown",
   "id": "f8499c38",
   "metadata": {},
   "source": [
    "## Let's Make MnistData Class"
   ]
  },
  {
   "cell_type": "code",
   "execution_count": null,
   "id": "3de39fa9",
   "metadata": {},
   "outputs": [],
   "source": [
    "import gzip\n",
    "import numpy as np\n",
    "import pickle\n",
    "import os\n",
    "import matplotlib.pyplot as plt\n",
    "import urllib.request\n",
    "\n",
    "class MnistData:\n",
    "    \n",
    "    # dictionary to map a file type to its file name\n",
    "    key_to_file = {\n",
    "        \"train_images\": \"train-images-idx3-ubyte.gz\",\n",
    "        \"train_labels\": \"train-labels-idx1-ubyte.gz\",\n",
    "        \"test_images\": \"t10k-images-idx3-ubyte.gz\",\n",
    "        \"test_labels\": \"t10k-labels-idx1-ubyte.gz\"\n",
    "    }\n",
    "    mnist_data_dir = \"mnist\"    # location for .gz files\n",
    "    mnist_pickle_name = \"mnist.pkl\"\n",
    "\n",
    "    def __init__(self):\n",
    "        self._download_all()\n",
    "        self.dataset = self._make_dataset()\n",
    "\n",
    "    # Function to download MNIST data\n",
    "    def _download(self, filename):\n",
    "\n",
    "        if os.path.exists(self.mnist_data_dir) is False:\n",
    "            os.makedirs(self.mnist_data_dir, exist_ok=True)\n",
    "\n",
    "        print(f\"Downloading {filename}...\")\n",
    "        filepath = os.path.join(self.mnist_data_dir, filename)\n",
    "\n",
    "        # check if file already exists\n",
    "        if os.path.exists(filepath):\n",
    "            print(f\"{filename} already exists. Skipping download.\")\n",
    "            return\n",
    "\n",
    "        # to resolve 406 Not Acceptable error\n",
    "        opener = urllib.request.build_opener()\n",
    "        opener.addheaders = [('Accept', '')]\n",
    "        urllib.request.install_opener(opener)\n",
    "\n",
    "        urllib.request.urlretrieve(base_url + filename, filepath)\n",
    "\n",
    "        print(\"Download complete.\")\n",
    "\n",
    "    def _download_all(self):\n",
    "\n",
    "        for key in self.key_to_file:\n",
    "            self._download(self.key_to_file[key])\n",
    "\n",
    "    # Function to load MNIST images\n",
    "    def _load_images(self, file_path):\n",
    "\n",
    "        with gzip.open(file_path, 'rb') as f:\n",
    "            f.read(16)  # Skip the header\n",
    "            buf = f.read()  # Read the rest of the file\n",
    "            images = np.frombuffer(buf, dtype=np.uint8)\n",
    "            images = images.reshape(-1, 28, 28)  # Reshape to (num_images, 28, 28)\n",
    "        return images\n",
    "\n",
    "    # Function to load MNIST labels\n",
    "    def _load_labels(self, file_path):\n",
    "\n",
    "        with gzip.open(file_path, 'rb') as f:\n",
    "            f.read(8)  # Skip the header\n",
    "            buf = f.read()  # Read the rest of the file\n",
    "            labels = np.frombuffer(buf, dtype=np.uint8)\n",
    "        return labels\n",
    "    \n",
    "    def _make_dataset(self):\n",
    "        if os.path.exists(self.mnist_pickle_name):\n",
    "            print(f\"{self.mnist_pickle_name} already exists. Loading dataset from pickle file.\")\n",
    "            with open(self.mnist_pickle_name, 'rb') as f:\n",
    "                mnist_data = pickle.load(f)\n",
    "            return mnist_data\n",
    "\n",
    "        # Load training and test data\n",
    "        train_images = self._load_images(os.path.join(self.mnist_data_dir, self.key_to_file[\"train_images\"]))\n",
    "        train_labels = self._load_labels(os.path.join(self.mnist_data_dir, self.key_to_file[\"train_labels\"]))\n",
    "        test_images = self._load_images(os.path.join(self.mnist_data_dir, self.key_to_file[\"test_images\"]))\n",
    "        test_labels = self._load_labels(os.path.join(self.mnist_data_dir, self.key_to_file[\"test_labels\"]))\n",
    "\n",
    "        # Package the data into a dictionary\n",
    "        mnist_data = {\n",
    "            \"train_images\": train_images,\n",
    "            \"train_labels\": train_labels,\n",
    "            \"test_images\": test_images,\n",
    "            \"test_labels\": test_labels\n",
    "        }\n",
    "\n",
    "        # Save the dataset as a pickle file\n",
    "        with open(self.mnist_pickle_name, 'wb') as f:\n",
    "            pickle.dump(mnist_data, f)\n",
    "\n",
    "        print(f\"MNIST dataset created and saved to {self.mnist_pickle_name}\")\n",
    "        return mnist_data\n",
    "    \n",
    "    def get_dataset(self):\n",
    "        return (self.dataset['train_images'], self.dataset['train_labels']), \\\n",
    "                (self.dataset['test_images'], self.dataset['test_labels'])"
   ]
  },
  {
   "cell_type": "code",
   "execution_count": 67,
   "id": "48e7751f",
   "metadata": {},
   "outputs": [
    {
     "name": "stdout",
     "output_type": "stream",
     "text": [
      "Downloading train-images-idx3-ubyte.gz...\n",
      "train-images-idx3-ubyte.gz already exists. Skipping download.\n",
      "Downloading train-labels-idx1-ubyte.gz...\n",
      "train-labels-idx1-ubyte.gz already exists. Skipping download.\n",
      "Downloading t10k-images-idx3-ubyte.gz...\n",
      "t10k-images-idx3-ubyte.gz already exists. Skipping download.\n",
      "Downloading t10k-labels-idx1-ubyte.gz...\n",
      "t10k-labels-idx1-ubyte.gz already exists. Skipping download.\n",
      "mnist.pkl already exists. Loading dataset from pickle file.\n"
     ]
    }
   ],
   "source": [
    "mnist_data = MnistData()\n",
    "(_, _), (test_images, test_labels) = mnist_data.get_dataset() "
   ]
  },
  {
   "cell_type": "code",
   "execution_count": 68,
   "id": "d846ed0e",
   "metadata": {},
   "outputs": [
    {
     "name": "stdout",
     "output_type": "stream",
     "text": [
      "3\n"
     ]
    },
    {
     "data": {
      "image/png": "[encoded data removed]",
      "text/plain": [
       "<Figure size 640x480 with 1 Axes>"
      ]
     },
     "metadata": {},
     "output_type": "display_data"
    }
   ],
   "source": [
    "img = test_images[500]\n",
    "label = test_labels[500]\n",
    "plt.imshow(img, cmap='gray')\n",
    "print(label)"
   ]
  },
  {
   "cell_type": "code",
   "execution_count": null,
   "id": "d5446373",
   "metadata": {},
   "outputs": [],
   "source": [
    "def softmax(x):\n",
    "    e_x = np.exp(x - np.max(x))\n",
    "    return e_x / e_x.sum(axis=0)"
   ]
  }
 ],
 "metadata": {
  "kernelspec": {
   "display_name": "ece5831-2025",
   "language": "python",
   "name": "python3"
  },
  "language_info": {
   "codemirror_mode": {
    "name": "ipython",
    "version": 3
   },
   "file_extension": ".py",
   "mimetype": "text/x-python",
   "name": "python",
   "nbconvert_exporter": "python",
   "pygments_lexer": "ipython3",
   "version": "3.10.18"
  }
 },
 "nbformat": 4,
 "nbformat_minor": 5
}
